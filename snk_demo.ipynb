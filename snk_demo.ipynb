{
 "cells": [
  {
   "cell_type": "markdown",
   "id": "1d19c06c-d986-4366-a84e-f5a3fcafc000",
   "metadata": {},
   "source": [
    "# Diffumatch: demo\n",
    "\n",
    "We show a simple pair example of diffu_match, and observe the effects of the mask, and the results after zero-shot optimization."
   ]
  },
  {
   "cell_type": "markdown",
   "id": "722cb673-b125-41e7-abfa-fdb90cc3b44e",
   "metadata": {},
   "source": [
    "First loading necessary libraries"
   ]
  },
  {
   "cell_type": "code",
   "execution_count": 1,
   "id": "d786637a-3a0b-44bd-90f0-5fb3b3815607",
   "metadata": {},
   "outputs": [],
   "source": [
    "import numpy as np\n",
    "import os\n",
    "from omegaconf import OmegaConf\n",
    "import matplotlib.pyplot as plt\n",
    "import potpourri3d as pp3d\n",
    "import torch\n",
    "from pathlib import Path\n",
    "import scipy\n",
    "import random\n",
    "import importlib"
   ]
  },
  {
   "cell_type": "code",
   "execution_count": 2,
   "id": "105e98f4-97de-477c-9645-4713fde4a7b1",
   "metadata": {},
   "outputs": [
    {
     "name": "stdout",
     "output_type": "stream",
     "text": [
      "Jupyter environment detected. Enabling Open3D WebVisualizer.\n",
      "[Open3D INFO] WebRTC GUI backend enabled.\n",
      "[Open3D INFO] WebRTCWindowSystem: HTTP handshake server disabled.\n"
     ]
    }
   ],
   "source": [
    "from utils.geometry import compute_operators, load_operators\n",
    "from utils.mesh import load_mesh \n",
    "from utils.surfaces import opt_rot_surf, Surface, centroid\n",
    "from utils.utils_func import convert_dict\n",
    "from utils.torch_fmap import torch_zoomout, knnsearch, extract_p2p_torch_fmap\n",
    "import meshplot as mp\n",
    "from utils.eval import accuracy"
   ]
  },
  {
   "cell_type": "code",
   "execution_count": 3,
   "id": "9a779cfa-29bf-4764-aa10-96c2469c74c2",
   "metadata": {},
   "outputs": [],
   "source": [
    "import notebook_helpers as helper\n",
    "import utils.meshplot as plot_helper\n",
    "device = \"cuda:0\"\n",
    "helper.device = device\n",
    "cache_dir = \"cache/fmaps_demo\"\n",
    "os.makedirs(cache_dir, exist_ok=True)"
   ]
  },
  {
   "cell_type": "code",
   "execution_count": 4,
   "id": "8bebad8d-34b2-41e2-b6b7-a0680d8a3b07",
   "metadata": {},
   "outputs": [
    {
     "data": {
      "text/plain": [
       "<module 'utils.meshplot' from '/home/emerypierson/projects/diffumatch/utils/meshplot.py'>"
      ]
     },
     "execution_count": 4,
     "metadata": {},
     "output_type": "execute_result"
    }
   ],
   "source": [
    "importlib.reload(helper)\n",
    "importlib.reload(plot_helper)"
   ]
  },
  {
   "cell_type": "markdown",
   "id": "2f1a6d7e-d341-4ac6-847f-a14caa30ece1",
   "metadata": {},
   "source": [
    "Loading data. \n",
    "The first cell is voluntarily commented out, as we want to show the results on a new category in this demo. You can try example from the datasets of the paper in the cell or add new examples by modifying notebook_helpers.py"
   ]
  },
  {
   "cell_type": "code",
   "execution_count": 5,
   "id": "291025f2-f36c-4f3f-82bb-70498840dcf8",
   "metadata": {},
   "outputs": [],
   "source": [
    "# demo_dataset = \"SCAPE_r_ori\"\n",
    "# demo_dataset = \"DT4D_r_ori\"\n",
    "# if demo_dataset == \"SCAPE_r_ori\":\n",
    "#     cache_data = os.path.join(cache_dir, \"SCAPE_ori\")\n",
    "#     id_1, id_2 = 52, 53\n",
    "#     shape_surf, target_surf, shape_dict, target_dict, map_info = helper.load_pair(cache_data, id_1, id_2, \"\", \"\", demo_dataset)\n",
    "# else:\n",
    "#     cache_data = os.path.join(\"cache/fmaps/DT4D_ori\")\n",
    "#     id_1, id_2 = 0, 0\n",
    "#     name_1, name_2 = \"mannequin/Running047\", \"crypto/Standing2HMagicAttack01034\"\n",
    "#     shape_surf, target_surf, shape_dict, target_dict, map_info = helper.load_pair(cache_data, id_1, id_2, name_1, name_2, demo_dataset)"
   ]
  },
  {
   "cell_type": "code",
   "execution_count": 6,
   "id": "e531f0bd-98f1-49a3-8c8c-799b521a7fc5",
   "metadata": {},
   "outputs": [],
   "source": [
    "file_source = \"example/cactus_deformed.off\"\n",
    "shape_dict, _ = helper.load_data(file_source, os.path.join(cache_dir, \"cactus_deformed.npz\"), \"source\")\n",
    "shape_surf = Surface(filename=file_source)\n",
    "\n",
    "file_target = \"example/cactus_big.off\"\n",
    "target_dict, _ = helper.load_data(file_target, os.path.join(cache_dir, \"cactus_big.npz\"), \"target\")\n",
    "target_surf = Surface(filename=file_target)"
   ]
  },
  {
   "cell_type": "markdown",
   "id": "c732382c-73e3-4217-9316-feb397d138f6",
   "metadata": {},
   "source": [
    "The target mesh is on the left, uncolored. The source mesh, with coloration, on the right. We also show the two meshes overlayed."
   ]
  },
  {
   "cell_type": "code",
   "execution_count": 7,
   "id": "da98b903-4537-440b-97de-37cbcac8dcd0",
   "metadata": {},
   "outputs": [
    {
     "name": "stdout",
     "output_type": "stream",
     "text": [
      "0.9999999999999999\n",
      "333\n"
     ]
    },
    {
     "data": {
      "application/vnd.jupyter.widget-view+json": {
       "model_id": "533589d2cff7416b8be75b75ddfc00ee",
       "version_major": 2,
       "version_minor": 0
      },
      "text/plain": [
       "HBox(children=(Output(), Output()))"
      ]
     },
     "metadata": {},
     "output_type": "display_data"
    },
    {
     "data": {
      "application/vnd.jupyter.widget-view+json": {
       "model_id": "a4e6ce4d004a4860aa4dba23b2634355",
       "version_major": 2,
       "version_minor": 0
      },
      "text/plain": [
       "HBox(children=(Output(), Output()))"
      ]
     },
     "metadata": {},
     "output_type": "display_data"
    }
   ],
   "source": [
    "cmap1 = visu_pts(shape_surf, colors)/255.\n",
    "plot_helper.double_plot_surf(target_surf, shape_surf, None, cmap1)"
   ]
  },
  {
   "cell_type": "code",
   "execution_count": 18,
   "id": "4c832850-4486-4c55-9257-9f70094572aa",
   "metadata": {},
   "outputs": [
    {
     "data": {
      "application/vnd.jupyter.widget-view+json": {
       "model_id": "ab27779a715348d5a65182a78bb87ac0",
       "version_major": 2,
       "version_minor": 0
      },
      "text/plain": [
       "Scene(children=[PolyMesh(data=[], default_color='tomato', triangle_indices=array([2429, 1312, 1321, ...,  750,…"
      ]
     },
     "execution_count": 18,
     "metadata": {},
     "output_type": "execute_result"
    }
   ],
   "source": [
    "scene, _ = plot_helper.overlay_surf(shape_dict[\"vertices\"], shape_surf.faces, target_dict[\"vertices\"], target_surf.faces)\n",
    "scene"
   ]
  },
  {
   "cell_type": "markdown",
   "id": "b3febff5-80bc-490b-9af7-264a5944e0f0",
   "metadata": {},
   "source": [
    "Creating the zero_shot helper class to match shapes with SNK"
   ]
  },
  {
   "cell_type": "code",
   "execution_count": 9,
   "id": "1deddd53-a8e9-4a31-8565-67c8bc969d9e",
   "metadata": {},
   "outputs": [],
   "source": [
    "import zero_shot\n",
    "cfg = OmegaConf.load(\"config/matching/snk.yaml\")\n",
    "matcher = zero_shot.Matcher(cfg)"
   ]
  },
  {
   "cell_type": "markdown",
   "id": "467c5081-886d-414e-9a13-341674810f91",
   "metadata": {},
   "source": [
    "Launching the SNK optimization loop."
   ]
  },
  {
   "cell_type": "code",
   "execution_count": 10,
   "id": "63f95fc8-ef94-489b-9d52-bca3a85b079c",
   "metadata": {},
   "outputs": [
    {
     "data": {
      "application/vnd.jupyter.widget-view+json": {
       "model_id": "a682411ff8814ab7a5e32279fc35cabc",
       "version_major": 2,
       "version_minor": 0
      },
      "text/plain": [
       "Optimizing matching source target:   0%|          | 0/1000 [00:00<?, ?it/s]"
      ]
     },
     "metadata": {},
     "output_type": "display_data"
    }
   ],
   "source": [
    "target_normals = torch.from_numpy(target_surf.surfel/np.linalg.norm(target_surf.surfel, axis=-1, keepdims=True)).float().to(device)\n",
    "C12_new, p2p, p2p_init, snk_rec, loss_save = matcher.optimize(shape_dict, target_dict, target_normals)"
   ]
  },
  {
   "cell_type": "code",
   "execution_count": 11,
   "id": "b0fefd6c-830c-4045-839c-0a6455b70f7d",
   "metadata": {},
   "outputs": [
    {
     "data": {
      "application/vnd.jupyter.widget-view+json": {
       "model_id": "a402360208bd4cf3a4c7210d26964f6b",
       "version_major": 2,
       "version_minor": 0
      },
      "text/plain": [
       "HBox(children=(Output(), Output()))"
      ]
     },
     "metadata": {},
     "output_type": "display_data"
    },
    {
     "data": {
      "application/vnd.jupyter.widget-view+json": {
       "model_id": "dccdfe91df5c4e8aa735a7efb9be7cf4",
       "version_major": 2,
       "version_minor": 0
      },
      "text/plain": [
       "HBox(children=(Output(), Output()))"
      ]
     },
     "metadata": {},
     "output_type": "display_data"
    }
   ],
   "source": [
    "p2p_new, _ = extract_p2p_torch_fmap(C12_new, shape_dict[\"evecs\"], target_dict[\"evecs\"])\n",
    "cmap2 = cmap1[p2p_new]\n",
    "double_plot_surf(target_surf, shape_surf,cmap2, cmap1)"
   ]
  },
  {
   "cell_type": "markdown",
   "id": "39566a9b-2c3f-452f-bba4-84b79cce2d0b",
   "metadata": {},
   "source": [
    "We can apply Zoomout to the computed map. "
   ]
  },
  {
   "cell_type": "code",
   "execution_count": 12,
   "id": "fd77f60e-5418-4241-a5c2-b39539b85255",
   "metadata": {},
   "outputs": [
    {
     "data": {
      "application/vnd.jupyter.widget-view+json": {
       "model_id": "2997600af414423aa0fc6ab31746e159",
       "version_major": 2,
       "version_minor": 0
      },
      "text/plain": [
       "HBox(children=(Output(), Output()))"
      ]
     },
     "metadata": {},
     "output_type": "display_data"
    },
    {
     "data": {
      "application/vnd.jupyter.widget-view+json": {
       "model_id": "7981511a657f4976ab2f1897821eb0e3",
       "version_major": 2,
       "version_minor": 0
      },
      "text/plain": [
       "HBox(children=(Output(), Output()))"
      ]
     },
     "metadata": {},
     "output_type": "display_data"
    }
   ],
   "source": [
    "evecs1, evecs2 = shape_dict[\"evecs\"], target_dict[\"evecs\"]\n",
    "evecs_2trans = evecs2.t() @ torch.diag(target_dict[\"mass\"])\n",
    "evecs_1trans = evecs1.t() @ torch.diag(shape_dict[\"mass\"])\n",
    "C12_end_zo = torch_zoomout(evecs1, evecs2, evecs_2trans, C12_new.squeeze()[:15, :15], 150)# matcher.cfg.sds_conf.zoomout)\n",
    "p2p_zo, _ = extract_p2p_torch_fmap(C12_end_zo, shape_dict[\"evecs\"], target_dict[\"evecs\"])\n",
    "cmap2 = cmap1[p2p_zo]\n",
    "double_plot_surf(target_surf, shape_surf,cmap2, cmap1)"
   ]
  },
  {
   "cell_type": "markdown",
   "id": "b8b55671-834d-4f48-ab94-ccbae4049365",
   "metadata": {},
   "source": [
    "SNK also has a reconstruction module (decoder loss). Let's look at the reconstruction from SNK!"
   ]
  },
  {
   "cell_type": "code",
   "execution_count": 17,
   "id": "5c5b4f4a-c144-4b49-ab2b-9b0b3605c252",
   "metadata": {},
   "outputs": [
    {
     "data": {
      "application/vnd.jupyter.widget-view+json": {
       "model_id": "56ae282e23cc4d37821be97fe379209d",
       "version_major": 2,
       "version_minor": 0
      },
      "text/plain": [
       "Scene(children=[PolyMesh(data=[], default_color='tomato', triangle_indices=array([ 806,    0,  620, ..., 1854,…"
      ]
     },
     "execution_count": 17,
     "metadata": {},
     "output_type": "execute_result"
    }
   ],
   "source": [
    "rec_surf = Surface(FV=[target_surf.faces, snk_rec.squeeze().detach().cpu().numpy()])\n",
    "scene, _ = overlay_surf(snk_rec.squeeze().detach().cpu().numpy(), target_surf.faces, shape_dict[\"vertices\"], shape_surf.faces)\n",
    "scene"
   ]
  }
 ],
 "metadata": {
  "kernelspec": {
   "display_name": "Python 3 (ipykernel)",
   "language": "python",
   "name": "python3"
  },
  "language_info": {
   "codemirror_mode": {
    "name": "ipython",
    "version": 3
   },
   "file_extension": ".py",
   "mimetype": "text/x-python",
   "name": "python",
   "nbconvert_exporter": "python",
   "pygments_lexer": "ipython3",
   "version": "3.9.20"
  }
 },
 "nbformat": 4,
 "nbformat_minor": 5
}
