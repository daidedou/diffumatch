{
 "cells": [
  {
   "cell_type": "markdown",
   "id": "1d19c06c-d986-4366-a84e-f5a3fcafc000",
   "metadata": {},
   "source": [
    "# Diffumatch: demo\n",
    "\n",
    "We show a simple pair example of diffu_match, and observe the effects of the mask, and the results after zero-shot optimization."
   ]
  },
  {
   "cell_type": "markdown",
   "id": "722cb673-b125-41e7-abfa-fdb90cc3b44e",
   "metadata": {},
   "source": [
    "First loading necessary libraries"
   ]
  },
  {
   "cell_type": "code",
   "execution_count": null,
   "id": "d786637a-3a0b-44bd-90f0-5fb3b3815607",
   "metadata": {},
   "outputs": [],
   "source": [
    "import numpy as np\n",
    "import os\n",
    "from omegaconf import OmegaConf\n",
    "import matplotlib.pyplot as plt\n",
    "import potpourri3d as pp3d\n",
    "import torch\n",
    "from pathlib import Path\n",
    "import scipy\n",
    "import random\n",
    "import importlib"
   ]
  },
  {
   "cell_type": "code",
   "execution_count": null,
   "id": "105e98f4-97de-477c-9645-4713fde4a7b1",
   "metadata": {},
   "outputs": [],
   "source": [
    "from utils.geometry import compute_operators, load_operators\n",
    "from utils.mesh import load_mesh \n",
    "from utils.surfaces import opt_rot_surf, Surface, centroid\n",
    "from utils.utils_func import convert_dict\n",
    "from utils.torch_fmap import torch_zoomout, knnsearch, extract_p2p_torch_fmap\n",
    "import meshplot as mp\n",
    "from utils.eval import accuracy"
   ]
  },
  {
   "cell_type": "code",
   "execution_count": null,
   "id": "9a779cfa-29bf-4764-aa10-96c2469c74c2",
   "metadata": {},
   "outputs": [],
   "source": [
    "import notebook_helpers as helper\n",
    "import utils.meshplot as plot_helper\n",
    "device = \"cuda:0\"\n",
    "helper.device = device\n",
    "cache_dir = \"cache/fmaps_demo\"\n",
    "os.makedirs(cache_dir, exist_ok=True)"
   ]
  },
  {
   "cell_type": "code",
   "execution_count": null,
   "id": "8bebad8d-34b2-41e2-b6b7-a0680d8a3b07",
   "metadata": {},
   "outputs": [],
   "source": [
    "importlib.reload(helper)\n",
    "importlib.reload(plot_helper)"
   ]
  },
  {
   "cell_type": "markdown",
   "id": "2f1a6d7e-d341-4ac6-847f-a14caa30ece1",
   "metadata": {},
   "source": [
    "Loading data. \n",
    "The first cell is voluntarily commented out, as we want to show the results on a new category in this demo. You can try example from the datasets of the paper in the cell or add new examples by modifying notebook_helpers.py"
   ]
  },
  {
   "cell_type": "code",
   "execution_count": null,
   "id": "291025f2-f36c-4f3f-82bb-70498840dcf8",
   "metadata": {},
   "outputs": [],
   "source": [
    "# demo_dataset = \"SCAPE_r_ori\"\n",
    "# demo_dataset = \"DT4D_r_ori\"\n",
    "# if demo_dataset == \"SCAPE_r_ori\":\n",
    "#     cache_data = os.path.join(cache_dir, \"SCAPE_ori\")\n",
    "#     id_1, id_2 = 52, 53\n",
    "#     shape_surf, target_surf, shape_dict, target_dict, map_info = helper.load_pair(cache_data, id_1, id_2, \"\", \"\", demo_dataset)\n",
    "# else:\n",
    "#     cache_data = os.path.join(\"cache/fmaps/DT4D_ori\")\n",
    "#     id_1, id_2 = 0, 0\n",
    "#     name_1, name_2 = \"mannequin/Running047\", \"crypto/Standing2HMagicAttack01034\"\n",
    "#     shape_surf, target_surf, shape_dict, target_dict, map_info = helper.load_pair(cache_data, id_1, id_2, name_1, name_2, demo_dataset)"
   ]
  },
  {
   "cell_type": "code",
   "execution_count": null,
   "id": "e531f0bd-98f1-49a3-8c8c-799b521a7fc5",
   "metadata": {},
   "outputs": [],
   "source": [
    "file_source = \"example/cactus.off\"\n",
    "shape_dict, _ = helper.load_data(file_source, os.path.join(cache_dir, \"cactus.npz\"), \"source\")\n",
    "shape_surf = Surface(filename=file_source)\n",
    "\n",
    "file_target = \"example/cactus_deformed.off\"\n",
    "target_dict, _ = helper.load_data(file_target, os.path.join(cache_dir, \"cactus_deformed.npz\"), \"target\")\n",
    "target_surf = Surface(filename=file_target)"
   ]
  },
  {
   "cell_type": "markdown",
   "id": "c732382c-73e3-4217-9316-feb397d138f6",
   "metadata": {},
   "source": [
    "The target mesh is on the left, uncolored. The source mesh, with coloration, on the right. We also show the two meshes overlayed."
   ]
  },
  {
   "cell_type": "code",
   "execution_count": null,
   "id": "da98b903-4537-440b-97de-37cbcac8dcd0",
   "metadata": {},
   "outputs": [],
   "source": [
    "cmap1 = plot_helper.visu_pts(shape_surf)/255.\n",
    "plot_helper.double_plot_surf(target_surf, shape_surf, None, cmap1)"
   ]
  },
  {
   "cell_type": "code",
   "execution_count": null,
   "id": "4c832850-4486-4c55-9257-9f70094572aa",
   "metadata": {},
   "outputs": [],
   "source": [
    "scene, _ = plot_helper.overlay_surf(shape_dict[\"vertices\"], shape_surf.faces, target_dict[\"vertices\"], target_surf.faces)\n",
    "scene"
   ]
  },
  {
   "cell_type": "markdown",
   "id": "b3febff5-80bc-490b-9af7-264a5944e0f0",
   "metadata": {},
   "source": [
    "Creating the zero_shot helper class to match shapes with SNK"
   ]
  },
  {
   "cell_type": "code",
   "execution_count": null,
   "id": "1deddd53-a8e9-4a31-8565-67c8bc969d9e",
   "metadata": {},
   "outputs": [],
   "source": [
    "import zero_shot\n",
    "cfg = OmegaConf.load(\"config/matching/snk.yaml\")\n",
    "matcher = zero_shot.Matcher(cfg)"
   ]
  },
  {
   "cell_type": "markdown",
   "id": "467c5081-886d-414e-9a13-341674810f91",
   "metadata": {},
   "source": [
    "Launching the SNK optimization loop."
   ]
  },
  {
   "cell_type": "code",
   "execution_count": null,
   "id": "63f95fc8-ef94-489b-9d52-bca3a85b079c",
   "metadata": {},
   "outputs": [],
   "source": [
    "target_normals = torch.from_numpy(target_surf.surfel/np.linalg.norm(target_surf.surfel, axis=-1, keepdims=True)).float().to(device)\n",
    "C12_new, p2p, p2p_init, snk_rec, loss_save = matcher.optimize(shape_dict, target_dict, target_normals)"
   ]
  },
  {
   "cell_type": "code",
   "execution_count": null,
   "id": "b0fefd6c-830c-4045-839c-0a6455b70f7d",
   "metadata": {},
   "outputs": [],
   "source": [
    "p2p_new, _ = extract_p2p_torch_fmap(C12_new, shape_dict[\"evecs\"], target_dict[\"evecs\"])\n",
    "cmap2 = cmap1[p2p_new]\n",
    "plot_helper.double_plot_surf(target_surf, shape_surf,cmap2, cmap1)"
   ]
  },
  {
   "cell_type": "markdown",
   "id": "39566a9b-2c3f-452f-bba4-84b79cce2d0b",
   "metadata": {},
   "source": [
    "We can apply Zoomout to the computed map. "
   ]
  },
  {
   "cell_type": "code",
   "execution_count": null,
   "id": "fd77f60e-5418-4241-a5c2-b39539b85255",
   "metadata": {},
   "outputs": [],
   "source": [
    "evecs1, evecs2 = shape_dict[\"evecs\"], target_dict[\"evecs\"]\n",
    "evecs_2trans = evecs2.t() @ torch.diag(target_dict[\"mass\"])\n",
    "evecs_1trans = evecs1.t() @ torch.diag(shape_dict[\"mass\"])\n",
    "C12_end_zo = torch_zoomout(evecs1, evecs2, evecs_2trans, C12_new.squeeze()[:15, :15], 150)# matcher.cfg.sds_conf.zoomout)\n",
    "p2p_zo, _ = extract_p2p_torch_fmap(C12_end_zo, shape_dict[\"evecs\"], target_dict[\"evecs\"])\n",
    "cmap2 = cmap1[p2p_zo]\n",
    "plot_helper.double_plot_surf(target_surf, shape_surf,cmap2, cmap1)"
   ]
  },
  {
   "cell_type": "markdown",
   "id": "b8b55671-834d-4f48-ab94-ccbae4049365",
   "metadata": {},
   "source": [
    "SNK also has a reconstruction module (decoder loss). Let's look at the reconstruction from SNK!"
   ]
  },
  {
   "cell_type": "code",
   "execution_count": null,
   "id": "5c5b4f4a-c144-4b49-ab2b-9b0b3605c252",
   "metadata": {},
   "outputs": [],
   "source": [
    "rec_surf = Surface(FV=[target_surf.faces, snk_rec.squeeze().detach().cpu().numpy()])\n",
    "scene, _ = plot_helper.overlay_surf(snk_rec.squeeze().detach().cpu().numpy(), target_surf.faces, shape_dict[\"vertices\"], shape_surf.faces)\n",
    "scene"
   ]
  }
 ],
 "metadata": {
  "kernelspec": {
   "display_name": "Python 3 (ipykernel)",
   "language": "python",
   "name": "python3"
  },
  "language_info": {
   "codemirror_mode": {
    "name": "ipython",
    "version": 3
   },
   "file_extension": ".py",
   "mimetype": "text/x-python",
   "name": "python",
   "nbconvert_exporter": "python",
   "pygments_lexer": "ipython3",
   "version": "3.9.23"
  }
 },
 "nbformat": 4,
 "nbformat_minor": 5
}
